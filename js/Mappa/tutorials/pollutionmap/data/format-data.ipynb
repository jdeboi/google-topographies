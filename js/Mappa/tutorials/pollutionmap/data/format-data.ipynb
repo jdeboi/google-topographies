{
 "cells": [
  {
   "cell_type": "code",
   "execution_count": 1,
   "metadata": {
    "collapsed": true
   },
   "outputs": [],
   "source": [
    "import sys, getopt\n",
    "import csv\n",
    "import json\n",
    "import googlemaps"
   ]
  },
  {
   "cell_type": "code",
   "execution_count": 34,
   "metadata": {
    "collapsed": false
   },
   "outputs": [],
   "source": [
    "# load the file\n",
    "data_file = open('co2_emissions.csv')\n",
    "raw_data = csv.reader(data_file)\n",
    "data = list(raw_data)"
   ]
  },
  {
   "cell_type": "code",
   "execution_count": 25,
   "metadata": {
    "collapsed": false
   },
   "outputs": [],
   "source": [
    "# load google geocoder\n",
    "gmaps = googlemaps.Client(key='yourkey')"
   ]
  },
  {
   "cell_type": "code",
   "execution_count": 41,
   "metadata": {
    "collapsed": false
   },
   "outputs": [
    {
     "name": "stdout",
     "output_type": "stream",
     "text": [
      "Occupied Palestinian Territory not found\n"
     ]
    }
   ],
   "source": [
    "co2_emissions = {}\n",
    "not_found = []\n",
    "\n",
    "for country in data:\n",
    "    geocode_result = gmaps.geocode(country[0])\n",
    "    \n",
    "    if(len(geocode_result) >= 1):\n",
    "        try:\n",
    "            geocode_result = geocode_result[0][\"geometry\"][\"location\"]\n",
    "            co2_emissions[country[0]] = {\"lat\": geocode_result[\"lat\"], \"lng\": geocode_result[\"lng\"], \"co2\": country[1]}\n",
    "        except ValueError:\n",
    "            print(\"Error for \" + country)\n",
    "    else:\n",
    "        print(country[0] + \" not found\")\n",
    "        not_found.append(country)\n"
   ]
  },
  {
   "cell_type": "code",
   "execution_count": 43,
   "metadata": {
    "collapsed": false
   },
   "outputs": [],
   "source": [
    "# save co2_emissions json file\n",
    "with open('co2_emissionsLatLng.json', 'w',  encoding='utf8') as outfile:  \n",
    "    json.dump(co2_emissions, outfile, ensure_ascii=False)"
   ]
  }
 ],
 "metadata": {
  "kernelspec": {
   "display_name": "Python 3",
   "language": "python",
   "name": "python3"
  },
  "language_info": {
   "codemirror_mode": {
    "name": "ipython",
    "version": 3
   },
   "file_extension": ".py",
   "mimetype": "text/x-python",
   "name": "python",
   "nbconvert_exporter": "python",
   "pygments_lexer": "ipython3",
   "version": "3.6.0"
  }
 },
 "nbformat": 4,
 "nbformat_minor": 2
}
